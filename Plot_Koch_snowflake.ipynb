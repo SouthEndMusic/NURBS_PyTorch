{
 "cells": [
  {
   "cell_type": "code",
   "execution_count": 1,
   "id": "38234b7c",
   "metadata": {},
   "outputs": [],
   "source": [
    "import torch\n",
    "import NURBS_PyTorch_2 as NP2\n",
    "\n",
    "from math import sin,cos\n",
    "\n",
    "%load_ext autoreload\n",
    "%autoreload 2"
   ]
  },
  {
   "cell_type": "code",
   "execution_count": 2,
   "id": "02d9ce73",
   "metadata": {},
   "outputs": [],
   "source": [
    "def get_Koch_coordinates(iterations):\n",
    "\n",
    "    iterations = 3\n",
    "    angle      = 0\n",
    "    directions = \"-rr-rr-\"\n",
    "\n",
    "    for i in range(iterations):\n",
    "        directions = directions.replace(\"-\",\"-l-rr-l-\")\n",
    "\n",
    "    x = [0]\n",
    "    y = [0]\n",
    "\n",
    "    for d in directions:\n",
    "        if d == \"-\":\n",
    "            x.append(x[-1] + cos(angle))\n",
    "            y.append(y[-1] + sin(angle))\n",
    "        elif d == \"l\":\n",
    "            angle += torch.pi/3\n",
    "        elif d == \"r\":\n",
    "            angle -= torch.pi/3\n",
    "            \n",
    "    return x,y"
   ]
  },
  {
   "cell_type": "code",
   "execution_count": 6,
   "id": "3cad59e4",
   "metadata": {},
   "outputs": [
    {
     "name": "stdout",
     "output_type": "stream",
     "text": [
      "curve_2D(\n",
      "\tn_inputs = 1,\n",
      "\tn_outputs = 2,\n",
      "\tinclude_weights = False,\n",
      "\tcontrol_net_shape = (193,),\n",
      "\tbasis_functions (dim 0) = basis_functions(\n",
      "\t\tdegree = 1,\n",
      "\t\tknot_vector = knot_vector(\n",
      "\t\t\tknots = tensor([0.0000, 0.0052, 0.0104, 0.0156, 0.0208, 0.0260, 0.0312, 0.0365, 0.0417,\n",
      "\t\t\t        0.0469, 0.0521, 0.0573, 0.0625, 0.0677, 0.0729, 0.0781, 0.0833, 0.0885,\n",
      "\t\t\t        0.0938, 0.0990, 0.1042, 0.1094, 0.1146, 0.1198, 0.1250, 0.1302, 0.1354,\n",
      "\t\t\t        0.1406, 0.1458, 0.1510, 0.1562, 0.1615, 0.1667, 0.1719, 0.1771, 0.1823,\n",
      "\t\t\t        0.1875, 0.1927, 0.1979, 0.2031, 0.2083, 0.2135, 0.2188, 0.2240, 0.2292,\n",
      "\t\t\t        0.2344, 0.2396, 0.2448, 0.2500, 0.2552, 0.2604, 0.2656, 0.2708, 0.2760,\n",
      "\t\t\t        0.2812, 0.2865, 0.2917, 0.2969, 0.3021, 0.3073, 0.3125, 0.3177, 0.3229,\n",
      "\t\t\t        0.3281, 0.3333, 0.3385, 0.3438, 0.3490, 0.3542, 0.3594, 0.3646, 0.3698,\n",
      "\t\t\t        0.3750, 0.3802, 0.3854, 0.3906, 0.3958, 0.4010, 0.4062, 0.4115, 0.4167,\n",
      "\t\t\t        0.4219, 0.4271, 0.4323, 0.4375, 0.4427, 0.4479, 0.4531, 0.4583, 0.4635,\n",
      "\t\t\t        0.4688, 0.4740, 0.4792, 0.4844, 0.4896, 0.4948, 0.5000, 0.5052, 0.5104,\n",
      "\t\t\t        0.5156, 0.5208, 0.5260, 0.5312, 0.5365, 0.5417, 0.5469, 0.5521, 0.5573,\n",
      "\t\t\t        0.5625, 0.5677, 0.5729, 0.5781, 0.5833, 0.5885, 0.5938, 0.5990, 0.6042,\n",
      "\t\t\t        0.6094, 0.6146, 0.6198, 0.6250, 0.6302, 0.6354, 0.6406, 0.6458, 0.6510,\n",
      "\t\t\t        0.6562, 0.6615, 0.6667, 0.6719, 0.6771, 0.6823, 0.6875, 0.6927, 0.6979,\n",
      "\t\t\t        0.7031, 0.7083, 0.7135, 0.7188, 0.7240, 0.7292, 0.7344, 0.7396, 0.7448,\n",
      "\t\t\t        0.7500, 0.7552, 0.7604, 0.7656, 0.7708, 0.7760, 0.7812, 0.7865, 0.7917,\n",
      "\t\t\t        0.7969, 0.8021, 0.8073, 0.8125, 0.8177, 0.8229, 0.8281, 0.8333, 0.8385,\n",
      "\t\t\t        0.8438, 0.8490, 0.8542, 0.8594, 0.8646, 0.8698, 0.8750, 0.8802, 0.8854,\n",
      "\t\t\t        0.8906, 0.8958, 0.9010, 0.9062, 0.9115, 0.9167, 0.9219, 0.9271, 0.9323,\n",
      "\t\t\t        0.9375, 0.9427, 0.9479, 0.9531, 0.9583, 0.9635, 0.9688, 0.9740, 0.9792,\n",
      "\t\t\t        0.9844, 0.9896, 0.9948, 1.0000], device='cuda:0'),\n",
      "\t\t\tmultiplicities = tensor([2, 1, 1, 1, 1, 1, 1, 1, 1, 1, 1, 1, 1, 1, 1, 1, 1, 1, 1, 1, 1, 1, 1, 1,\n",
      "\t\t\t        1, 1, 1, 1, 1, 1, 1, 1, 1, 1, 1, 1, 1, 1, 1, 1, 1, 1, 1, 1, 1, 1, 1, 1,\n",
      "\t\t\t        1, 1, 1, 1, 1, 1, 1, 1, 1, 1, 1, 1, 1, 1, 1, 1, 1, 1, 1, 1, 1, 1, 1, 1,\n",
      "\t\t\t        1, 1, 1, 1, 1, 1, 1, 1, 1, 1, 1, 1, 1, 1, 1, 1, 1, 1, 1, 1, 1, 1, 1, 1,\n",
      "\t\t\t        1, 1, 1, 1, 1, 1, 1, 1, 1, 1, 1, 1, 1, 1, 1, 1, 1, 1, 1, 1, 1, 1, 1, 1,\n",
      "\t\t\t        1, 1, 1, 1, 1, 1, 1, 1, 1, 1, 1, 1, 1, 1, 1, 1, 1, 1, 1, 1, 1, 1, 1, 1,\n",
      "\t\t\t        1, 1, 1, 1, 1, 1, 1, 1, 1, 1, 1, 1, 1, 1, 1, 1, 1, 1, 1, 1, 1, 1, 1, 1,\n",
      "\t\t\t        1, 1, 1, 1, 1, 1, 1, 1, 1, 1, 1, 1, 1, 1, 1, 1, 1, 1, 1, 1, 1, 1, 1, 1,\n",
      "\t\t\t        2], device='cuda:0', dtype=torch.int32),\n",
      "\t\t\topen = True,\n",
      "\t\t\tequispaced = True\n",
      "\t\t)\n",
      "\t)\n",
      ")\n"
     ]
    }
   ],
   "source": [
    "x,y = get_Koch_coordinates(4)\n",
    "        \n",
    "Koch = NP2.Curve_2D(n_control_points = len(x)) # TODO: Get number of control points from knot vector / basis function set\n",
    "kvk  = NP2.Knot_vector.make_open(degree = 1, n_control_points = len(x))\n",
    "bfk  = NP2.Basis_functions(kvk)\n",
    "Koch.set_parameters(basis_function_sets      = [bfk],\n",
    "                    control_point_coord_sets = [torch.tensor(x),\n",
    "                                                torch.tensor(y)])\n",
    "\n",
    "print(Koch)"
   ]
  },
  {
   "cell_type": "code",
   "execution_count": 7,
   "id": "f569bc52",
   "metadata": {},
   "outputs": [
    {
     "data": {
      "text/html": [
       "\n",
       "        <iframe\n",
       "            width=\"100%\"\n",
       "            height=\"650\"\n",
       "            src=\"http://127.0.0.1:8050/\"\n",
       "            frameborder=\"0\"\n",
       "            allowfullscreen\n",
       "            \n",
       "        ></iframe>\n",
       "        "
      ],
      "text/plain": [
       "<IPython.lib.display.IFrame at 0x285cb704f40>"
      ]
     },
     "metadata": {},
     "output_type": "display_data"
    }
   ],
   "source": [
    "plotter = NP2.plotter(Koch, title = \"Koch snowflake\", n_points_eval = len(x), \n",
    "                      graph_shape = (750,600))"
   ]
  }
 ],
 "metadata": {
  "kernelspec": {
   "display_name": "Python 3 (ipykernel)",
   "language": "python",
   "name": "python3"
  },
  "language_info": {
   "codemirror_mode": {
    "name": "ipython",
    "version": 3
   },
   "file_extension": ".py",
   "mimetype": "text/x-python",
   "name": "python",
   "nbconvert_exporter": "python",
   "pygments_lexer": "ipython3",
   "version": "3.9.7"
  }
 },
 "nbformat": 4,
 "nbformat_minor": 5
}
