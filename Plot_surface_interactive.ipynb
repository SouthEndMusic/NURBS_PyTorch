{
 "cells": [
  {
   "cell_type": "code",
   "execution_count": 1,
   "id": "30fbcd36",
   "metadata": {},
   "outputs": [],
   "source": [
    "import torch\n",
    "import NURBS_PyTorch_2 as NP2\n",
    "\n",
    "%load_ext autoreload\n",
    "%autoreload 2"
   ]
  },
  {
   "cell_type": "code",
   "execution_count": 2,
   "id": "e62931f3",
   "metadata": {},
   "outputs": [
    {
     "name": "stdout",
     "output_type": "stream",
     "text": [
      "surface_3D(\n",
      "\tn_inputs = 2,\n",
      "\tn_outputs = 3,\n",
      "\tinclude_weights = False,\n",
      "\tcontrol_net_shape = (10, 10),\n",
      "\tbasis_functions (dim 0) = basis_functions(\n",
      "\t\tdegree = 4,\n",
      "\t\tknot_vector = knot_vector(\n",
      "\t\t\tknots = tensor([-1.0000e+00, -6.6667e-01, -3.3333e-01, -2.9802e-08,  3.3333e-01,\n",
      "\t\t\t         6.6667e-01,  1.0000e+00], device='cuda:0'),\n",
      "\t\t\tmultiplicities = tensor([5, 1, 1, 1, 1, 1, 5], device='cuda:0', dtype=torch.int32),\n",
      "\t\t\topen = True,\n",
      "\t\t\tequispaced = True\n",
      "\t\t)\n",
      "\t),\n",
      "\tbasis_functions (dim 1) = basis_functions(\n",
      "\t\tdegree = 4,\n",
      "\t\tknot_vector = knot_vector(\n",
      "\t\t\tknots = tensor([-1.0000e+00, -6.6667e-01, -3.3333e-01, -2.9802e-08,  3.3333e-01,\n",
      "\t\t\t         6.6667e-01,  1.0000e+00], device='cuda:0'),\n",
      "\t\t\tmultiplicities = tensor([5, 1, 1, 1, 1, 1, 5], device='cuda:0', dtype=torch.int32),\n",
      "\t\t\topen = True,\n",
      "\t\t\tequispaced = True\n",
      "\t\t)\n",
      "\t)\n",
      ")\n"
     ]
    }
   ],
   "source": [
    "n_control_points_1 = 10\n",
    "n_control_points_2 = 10\n",
    "\n",
    "degree_1 = 4\n",
    "degree_2 = 4\n",
    "\n",
    "kv_1 = NP2.Knot_vector.make_open(n_control_points = n_control_points_1,\n",
    "                                 degree           = degree_1,\n",
    "                                 param_min        = -1,\n",
    "                                 param_max        = 1)\n",
    "bf_1 = NP2.Basis_functions(kv_1)\n",
    "\n",
    "kv_2 = NP2.Knot_vector.make_open(n_control_points = n_control_points_2,\n",
    "                                 degree           = degree_2,\n",
    "                                 param_min        = -1,\n",
    "                                 param_max        = 1)\n",
    "bf_2 = NP2.Basis_functions(kv_2)\n",
    "\n",
    "S_3D = NP2.Surface_3D(control_net_shape = (n_control_points_1,\n",
    "                                           n_control_points_2))\n",
    "\n",
    "control_points_x = NP2.Marsden(kv_1)\n",
    "control_points_y = NP2.Marsden(kv_2)\n",
    "\n",
    "control_points_x, control_points_y = torch.meshgrid(control_points_x,\n",
    "                                                    control_points_y,\n",
    "                                                    indexing = 'ij')\n",
    "\n",
    "control_points_z = 1 - 0.5*(control_points_x**2 + control_points_y**2)\n",
    "# control_points_z = 2*torch.rand(control_points_x.shape).to(S_3D.device) - 0.5\n",
    "\n",
    "\n",
    "S_3D.set_parameters(basis_function_sets      = [bf_1,bf_2],\n",
    "                    control_point_coord_sets = [control_points_x,\n",
    "                                                control_points_y,\n",
    "                                                control_points_z])\n",
    "\n",
    "print(S_3D)"
   ]
  },
  {
   "cell_type": "code",
   "execution_count": 3,
   "id": "0043971b",
   "metadata": {
    "scrolled": false
   },
   "outputs": [
    {
     "data": {
      "text/html": [
       "\n",
       "        <iframe\n",
       "            width=\"100%\"\n",
       "            height=\"650\"\n",
       "            src=\"http://127.0.0.1:8050/\"\n",
       "            frameborder=\"0\"\n",
       "            allowfullscreen\n",
       "            \n",
       "        ></iframe>\n",
       "        "
      ],
      "text/plain": [
       "<IPython.lib.display.IFrame at 0x20030e30970>"
      ]
     },
     "metadata": {},
     "output_type": "display_data"
    }
   ],
   "source": [
    "plotter = NP2.plotter(S_3D, graph_shape = (600,600), cbar_range = [-1,2], control_net = True,\n",
    "                      title = \"Interactive B-spline surface\")"
   ]
  }
 ],
 "metadata": {
  "kernelspec": {
   "display_name": "Python 3 (ipykernel)",
   "language": "python",
   "name": "python3"
  },
  "language_info": {
   "codemirror_mode": {
    "name": "ipython",
    "version": 3
   },
   "file_extension": ".py",
   "mimetype": "text/x-python",
   "name": "python",
   "nbconvert_exporter": "python",
   "pygments_lexer": "ipython3",
   "version": "3.9.7"
  }
 },
 "nbformat": 4,
 "nbformat_minor": 5
}
