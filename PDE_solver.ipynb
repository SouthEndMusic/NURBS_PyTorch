{
 "cells": [
  {
   "cell_type": "markdown",
   "id": "dd38afd0",
   "metadata": {},
   "source": [
    "We consider the diffusion problem\n",
    "\n",
    "$$\n",
    "    \\begin{cases}\n",
    "        \\frac{\\partial T}{\\partial t} = \\Delta T \\quad &\\text{ in } \\Omega, \\quad 0<t<t_\\text{end}, \\\\\n",
    "        T = T_0 \\quad &\\text{ in } \\Omega, \\quad t = 0, \\\\\n",
    "        \\nabla T \\bullet \\hat{\\mathbf{n}} = 0 \\quad &\\text{ on } \\partial\\Omega, \\quad 0<t<t_\\text{end}\n",
    "    \\end{cases}\n",
    "$$\n",
    "\n",
    "on the domain $\\Omega := [-r_x,r_x] \\times [-r_y,r_y] \\times [-r_z,r_z] \\subset \\mathbb{R}^3$. Here $\\Delta$ is the Laplace operator\n",
    "$$\n",
    "    \\Delta := \\frac{\\partial^2}{\\partial x^2} + \\frac{\\partial^2}{\\partial y^2} + \\frac{\\partial^2}{\\partial z^2},\n",
    "$$\n",
    "$T_0$ is a given function\n",
    "$$\n",
    "    T_0 : \\Omega \\rightarrow \\mathbb{R}\n",
    "$$\n",
    "and\n",
    "$$\n",
    "    \\hat{\\mathbf{n}}: \\partial\\Omega \\rightarrow \\mathbb{R}^3\n",
    "$$\n",
    "is the unit normal field to the domain boundary."
   ]
  },
  {
   "cell_type": "code",
   "execution_count": 1,
   "id": "a39ab940",
   "metadata": {},
   "outputs": [],
   "source": [
    "import torch\n",
    "import NURBS_PyTorch_2 as NP2"
   ]
  },
  {
   "cell_type": "code",
   "execution_count": null,
   "id": "eda954e0",
   "metadata": {},
   "outputs": [],
   "source": [
    "class Diffusion_box(NURBS_PyTorch_2.NURBS_object):\n",
    "    \n",
    "    def __init__(self,\n",
    "                 *args,\n",
    "                 **kwargs):\n",
    "        super().__init__(n_inputs  = 4,\n",
    "                         n_outputs = 1)\n",
    "        \n",
    "        "
   ]
  }
 ],
 "metadata": {
  "kernelspec": {
   "display_name": "Python 3 (ipykernel)",
   "language": "python",
   "name": "python3"
  },
  "language_info": {
   "codemirror_mode": {
    "name": "ipython",
    "version": 3
   },
   "file_extension": ".py",
   "mimetype": "text/x-python",
   "name": "python",
   "nbconvert_exporter": "python",
   "pygments_lexer": "ipython3",
   "version": "3.9.7"
  }
 },
 "nbformat": 4,
 "nbformat_minor": 5
}
