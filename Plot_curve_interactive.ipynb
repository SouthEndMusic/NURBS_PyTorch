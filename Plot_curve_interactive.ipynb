{
 "cells": [
  {
   "cell_type": "code",
   "execution_count": 1,
   "id": "9383192e",
   "metadata": {},
   "outputs": [],
   "source": [
    "import torch\n",
    "import NURBS_PyTorch_2 as NP2\n",
    "\n",
    "%load_ext autoreload\n",
    "%autoreload 2"
   ]
  },
  {
   "cell_type": "code",
   "execution_count": 2,
   "id": "eb761a59",
   "metadata": {},
   "outputs": [
    {
     "name": "stdout",
     "output_type": "stream",
     "text": [
      "curve_2D(\n",
      "\tn_inputs = 1,\n",
      "\tn_outputs = 2,\n",
      "\tinclude_weights = False,\n",
      "\tcontrol_net_shape = (10,),\n",
      "\tbasis_functions (dim 0) = basis_functions(\n",
      "\t\tdegree = 3,\n",
      "\t\tknot_vector = knot_vector(\n",
      "\t\t\tknots = tensor([0.0000, 0.1429, 0.2857, 0.4286, 0.5714, 0.7143, 0.8571, 1.0000],\n",
      "\t\t\t       device='cuda:0'),\n",
      "\t\t\tmultiplicities = tensor([4, 1, 1, 1, 1, 1, 1, 4], device='cuda:0', dtype=torch.int32),\n",
      "\t\t\topen = True,\n",
      "\t\t\tequispaced = True\n",
      "\t\t)\n",
      "\t)\n",
      ")\n"
     ]
    }
   ],
   "source": [
    "C_2D = NP2.Curve_2D()\n",
    "kv   = NP2.Knot_vector.make_open()\n",
    "bf   = NP2.Basis_functions(kv)\n",
    "    \n",
    "C_2D.set_parameters(\n",
    "                 basis_function_sets      = [bf],\n",
    "                 control_point_coord_sets = [torch.linspace(0,3,10),\n",
    "                                             torch.rand(C_2D.control_net_shape)])\n",
    "\n",
    "print(C_2D)"
   ]
  },
  {
   "cell_type": "markdown",
   "id": "dd51a97e",
   "metadata": {},
   "source": [
    "To interact with the B-spline curve, draw a box to select some control points, then drag and drop the rectangle to shift the selection.\n",
    "\n",
    "Note that there is currently a bug whereby the appearance of the control points does not exactly reflect the selection."
   ]
  },
  {
   "cell_type": "code",
   "execution_count": 3,
   "id": "f4aab062",
   "metadata": {
    "scrolled": false
   },
   "outputs": [
    {
     "data": {
      "text/html": [
       "\n",
       "        <iframe\n",
       "            width=\"100%\"\n",
       "            height=\"650\"\n",
       "            src=\"http://127.0.0.1:8050/\"\n",
       "            frameborder=\"0\"\n",
       "            allowfullscreen\n",
       "            \n",
       "        ></iframe>\n",
       "        "
      ],
      "text/plain": [
       "<IPython.lib.display.IFrame at 0x1bf7a1d6e20>"
      ]
     },
     "metadata": {},
     "output_type": "display_data"
    },
    {
     "name": "stdout",
     "output_type": "stream",
     "text": [
      "\u001b[1;31m---------------------------------------------------------------------------\u001b[0m\n",
      "\u001b[1;31mIndexError\u001b[0m                                Traceback (most recent call last)\n",
      "\u001b[1;31mIndexError\u001b[0m: list index out of range\n",
      "\n",
      "\u001b[1;31m---------------------------------------------------------------------------\u001b[0m\n",
      "\u001b[1;31mIndexError\u001b[0m                                Traceback (most recent call last)\n",
      "\u001b[1;31mIndexError\u001b[0m: list index out of range\n",
      "\n",
      "\u001b[1;31m---------------------------------------------------------------------------\u001b[0m\n",
      "\u001b[1;31mIndexError\u001b[0m                                Traceback (most recent call last)\n",
      "\u001b[1;31mIndexError\u001b[0m: list index out of range\n",
      "\n"
     ]
    }
   ],
   "source": [
    "plotter = NP2.plotter(C_2D)"
   ]
  },
  {
   "cell_type": "code",
   "execution_count": null,
   "id": "ca646bd9",
   "metadata": {},
   "outputs": [],
   "source": []
  }
 ],
 "metadata": {
  "kernelspec": {
   "display_name": "Python 3 (ipykernel)",
   "language": "python",
   "name": "python3"
  },
  "language_info": {
   "codemirror_mode": {
    "name": "ipython",
    "version": 3
   },
   "file_extension": ".py",
   "mimetype": "text/x-python",
   "name": "python",
   "nbconvert_exporter": "python",
   "pygments_lexer": "ipython3",
   "version": "3.9.7"
  }
 },
 "nbformat": 4,
 "nbformat_minor": 5
}
